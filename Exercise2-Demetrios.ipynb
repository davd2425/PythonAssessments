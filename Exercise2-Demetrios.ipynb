{
 "cells": [
  {
   "cell_type": "markdown",
   "metadata": {},
   "source": [
    "## Exercise 2\n",
    "\n",
    "In the `FiniteDifferences` notebook we considered the differential equation controlling heat flow which relates the rate of change in $T$, the temperature, to spatial gradients in the same quantity. \n",
    "\n",
    "$$\n",
    "\\frac{\\partial T}{\\partial t} = \\kappa \\frac{\\partial^2 T}{\\partial x^2} + H\n",
    "$$\n",
    "       \n",
    "       \n",
    "We ignored $H$ and solved a number of examples. \n",
    "\n",
    "At the end of the notebook we looked at the time-varying solution of the heat equation using an explicit finite difference approximation. Given all the trouble we went to setting this up, don't you think it would be a good idea to see if we can iterate until we reach the steady-state solution?\n",
    "\n",
    "This is not very complicated to do so I would like you to try it __for the case where $\\kappa$ is constant__.\n",
    "\n",
    "You can copy and paste the cells from the `FiniteDifferences` here to get started."
   ]
  },
  {
   "cell_type": "markdown",
   "metadata": {
    "collapsed": true
   },
   "source": [
    "## Hints\n",
    "\n",
    "You have most of the code you need. The `np.gradient` function will still be useful ... in fact you really only have to put everything in a `for` loop and enforce the boundary conditions.\n"
   ]
  },
  {
   "cell_type": "code",
   "execution_count": 1,
   "metadata": {},
   "outputs": [],
   "source": [
    "import numpy as np\n",
    "import matplotlib.pyplot as plt\n",
    "%matplotlib inline"
   ]
  },
  {
   "cell_type": "code",
   "execution_count": 2,
   "metadata": {},
   "outputs": [
    {
     "name": "stdout",
     "output_type": "stream",
     "text": [
      "2783\n"
     ]
    }
   ],
   "source": [
    "#setting up the initial conditions\n",
    "np.gradient\n",
    "\n",
    "nx = 30\n",
    "ny = 30\n",
    "dx = 1.0\n",
    "dy = 1.0\n",
    "T = np.zeros((ny,nx))\n",
    "\n",
    "\n",
    "k = 1\n",
    "\n",
    "steps = 10000\n",
    "#setting up the arrays to keep track of each itteration\n",
    "time = np.zeros(steps)\n",
    "time[0] = 0.0\n",
    "arrayT = np.array((1,steps))\n",
    "arrayT[0] = 0.0\n",
    "arraysteady = np.array((1,30))\n",
    "arraysteady[0] = 0.0\n",
    "#steady state array to store each T itteration\n",
    "SS = [T]\n",
    "#timestep loop\n",
    "for i in range(1, steps):\n",
    "    # Initial conditions\n",
    "    T[0,:] = 800.\n",
    "    T[-1,:] = 500.\n",
    "    gradTx, gradTy = np.gradient(T, dx, dy)\n",
    "    flux_x = k*gradTx\n",
    "    flux_y = k*gradTy\n",
    "\n",
    "    gradTxx, gradTxy = np.gradient(flux_x, dx, dy)\n",
    "    gradTyx, gradTyy = np.gradient(flux_y, dx, dy)\n",
    "\n",
    "    divT = gradTxx + gradTyy\n",
    "    dt = (dx*dy)/k\n",
    "    time += dt\n",
    "    \n",
    "    T = T + dt*divT\n",
    "    time[i] = time[i-1] + 1\n",
    "    #store each iteration of T\n",
    "    SS.append(T)\n",
    "    #compare iterations of T\n",
    "   \n",
    "    comparison = SS[i] == SS[i-1]\n",
    "    steadyarray = comparison.all()\n",
    "    if steadyarray == True:\n",
    "        print(i-1)\n",
    "        break"
   ]
  },
  {
   "cell_type": "code",
   "execution_count": 3,
   "metadata": {},
   "outputs": [
    {
     "data": {
      "text/plain": [
       "<matplotlib.image.AxesImage at 0x181cab0f700>"
      ]
     },
     "execution_count": 3,
     "metadata": {},
     "output_type": "execute_result"
    },
    {
     "data": {
      "image/png": "[encoded data removed]",
      "text/plain": [
       "<Figure size 720x288 with 2 Axes>"
      ]
     },
     "metadata": {
      "needs_background": "light"
     },
     "output_type": "display_data"
    }
   ],
   "source": [
    "fig, (ax1, ax2) = plt.subplots(1,2, sharey=True, figsize=(10,4))\n",
    "ax1.imshow(SS[0])\n",
    "ax2.imshow(SS[i])\n"
   ]
  },
  {
   "cell_type": "markdown",
   "metadata": {},
   "source": [
    "By comparing Tn and Tn-1 in the loop and by stoping the code when the differences are negligible, the apparent iteration that reaches thermal equilibrium is i = 2783. The equilibrium could be considered reached much earlier if you take small differences (1e-10 and smaller) to be negligible."
   ]
  },
  {
   "cell_type": "markdown",
   "metadata": {},
   "source": [
    "<font color='brick'>\n",
    "First, you should enforce boundary conditions within your loop. i.e. place\n",
    "\n",
    "```python\n",
    "T[0,:] = 800.\n",
    "T[-1,:] = 500.\n",
    "```\n",
    "\n",
    "at the start of your `for` loop.\n",
    "\n",
    "You have done the right thing storing `T` for every iteration. To ascertain if the solution has reached steady state you need to measure the difference between each solution. You can do this by subtracting the current temperature solution $T_n$ from the previous one $T_{n-1}$ and finding the maximum difference, i.e. $\\max (|T_n - T_{n-1}|)$. If the difference is very small then you have reached steady-state. I want to know after approximately how many iterations does this take?\n",
    "\n",
    "</font>"
   ]
  },
  {
   "cell_type": "markdown",
   "metadata": {},
   "source": [
    "We know that there is an instability in the code which occurs if the timestep is too large. Currently the timestep size is related to the size of the mesh and the diffusivity:\n",
    "\n",
    "$$\n",
    "\\Delta t = \\frac{\\Delta x \\Delta y}{\\kappa}\n",
    "$$\n",
    "\n",
    "\n",
    "What happens if you overwrite the timestep size, `dt`? What is the point where the solution begins to breakdown and you see wild oscillations? Is it pretty close to the above relation?"
   ]
  },
  {
   "cell_type": "code",
   "execution_count": 4,
   "metadata": {},
   "outputs": [
    {
     "name": "stdout",
     "output_type": "stream",
     "text": [
      "5459\n"
     ]
    }
   ],
   "source": [
    "#setting up the initial conditions\n",
    "np.gradient\n",
    "\n",
    "nx = 30\n",
    "ny = 30\n",
    "dx = 1.0\n",
    "dy = 1.0\n",
    "T = np.zeros((ny,nx))\n",
    "\n",
    "\n",
    "k = 1\n",
    "\n",
    "steps = 100000\n",
    "#setting up the arrays to keep track of each itteration\n",
    "time = np.zeros(steps)\n",
    "time[0] = 0.0\n",
    "arrayT = np.array((1,steps))\n",
    "arrayT[0] = 0.0\n",
    "arraysteady = np.array((1,30))\n",
    "arraysteady[0] = 0.0\n",
    "#steady state array to store each T itteration\n",
    "SSt = [T]\n",
    "#timestep loop\n",
    "for j in range(1, steps):\n",
    "    # Initial conditions\n",
    "    T[0,:] = 800.\n",
    "    T[-1,:] = 500.\n",
    "    gradTx, gradTy = np.gradient(T, dx, dy)\n",
    "    flux_x = k*gradTx\n",
    "    flux_y = k*gradTy\n",
    "\n",
    "    gradTxx, gradTxy = np.gradient(flux_x, dx, dy)\n",
    "    gradTyx, gradTyy = np.gradient(flux_y, dx, dy)\n",
    "\n",
    "    divT = gradTxx + gradTyy\n",
    "    dt = 0.5\n",
    "    time += dt\n",
    "    \n",
    "    T = T + dt*divT\n",
    "    time[i] = time[j-1] + 1\n",
    "    #store each iteration of T\n",
    "    SSt.append(T)\n",
    "    #compare iterations of T\n",
    "    comparison = SSt[j] == SSt[j-1]\n",
    "    steadyarray = comparison.all()\n",
    "    if steadyarray == True:\n",
    "        print(j-1)\n",
    "        break "
   ]
  },
  {
   "cell_type": "code",
   "execution_count": 5,
   "metadata": {},
   "outputs": [
    {
     "data": {
      "text/plain": [
       "<matplotlib.image.AxesImage at 0x181cebf1fa0>"
      ]
     },
     "execution_count": 5,
     "metadata": {},
     "output_type": "execute_result"
    },
    {
     "data": {
      "image/png": "[encoded data removed]",
      "text/plain": [
       "<Figure size 720x288 with 2 Axes>"
      ]
     },
     "metadata": {
      "needs_background": "light"
     },
     "output_type": "display_data"
    }
   ],
   "source": [
    "fig, (ax1, ax2) = plt.subplots(1,2, sharey=True, figsize=(10,4))\n",
    "ax1.imshow(SS[i])\n",
    "ax2.imshow(SSt[i])"
   ]
  },
  {
   "cell_type": "markdown",
   "metadata": {},
   "source": [
    "dt as per the given equation is 1 (since dx, dy and k are 1). When increasing the timestep manually, even by a small bit, it seems my solution to find the steady state iteration no longer works as there are small fluctuations on the scale of 1e-13 around where the iteration would definitely be in steady state. When reducing the timestep, as I have done above, the iteration number increases. In the case above i halved the time to 0.5 which increased the steady state iteration number from 2783 to 5459, which is about double. For this reason it does indeed seem that the optimal time step size is that which is calculated from the given equation, which is 1 with the parametres used in this code."
   ]
  },
  {
   "cell_type": "markdown",
   "metadata": {},
   "source": [
    "<font color='brick'>\n",
    "That's all well and good, but you have to show me! Also, I asked you to comment on whether the _optimal_ timestep size is somewhat close to:\n",
    "    \n",
    "$$\n",
    "\\Delta t = \\frac{\\Delta x \\Delta y}{\\kappa}\n",
    "$$\n",
    "\n",
    "Calculate `dt` using this formula and then compute the temperature solution. What happens if you increase or decrease `dt` by a small amount?\n",
    "\n",
    "    \n",
    "</font>"
   ]
  },
  {
   "cell_type": "code",
   "execution_count": null,
   "metadata": {},
   "outputs": [],
   "source": []
  }
 ],
 "metadata": {
  "kernelspec": {
   "display_name": "Python 3",
   "language": "python",
   "name": "python3"
  },
  "language_info": {
   "codemirror_mode": {
    "name": "ipython",
    "version": 3
   },
   "file_extension": ".py",
   "mimetype": "text/x-python",
   "name": "python",
   "nbconvert_exporter": "python",
   "pygments_lexer": "ipython3",
   "version": "3.8.5"
  }
 },
 "nbformat": 4,
 "nbformat_minor": 1
}
